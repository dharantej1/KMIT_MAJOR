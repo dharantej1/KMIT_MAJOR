{
 "cells": [
  {
   "cell_type": "code",
   "execution_count": 1,
   "metadata": {},
   "outputs": [
    {
     "name": "stdout",
     "output_type": "stream",
     "text": [
      "Requirement already satisfied: opencv-python in /Users/dharantej/opt/anaconda3/lib/python3.9/site-packages (4.7.0.72)\r\n",
      "Requirement already satisfied: numpy>=1.19.3 in /Users/dharantej/opt/anaconda3/lib/python3.9/site-packages (from opencv-python) (1.21.5)\r\n"
     ]
    }
   ],
   "source": [
    "!pip install opencv-python\n"
   ]
  },
  {
   "cell_type": "code",
   "execution_count": null,
   "metadata": {
    "id": "mTe1rRfSSheS"
   },
   "outputs": [],
   "source": [
    "import numpy as np # linear algebra\n",
    "import pandas as pd # data processing, CSV file I/O (e.g. pd.read_csv)\n",
    "import os\n",
    "import cv2 as cv\n",
    "import matplotlib.pyplot as plt\n",
    "from keras.preprocessing import image\n",
    "from keras.applications.inception_resnet_v2 import InceptionResNetV2\n",
    "from keras.applications.inception_resnet_v2 import preprocess_input,decode_predictions\n",
    "from keras import backend as K\n",
    "from keras.layers import add, Conv2D,MaxPooling2D,UpSampling2D,Input,BatchNormalization, RepeatVector, Reshape\n",
    "from keras.layers import concatenate\n",
    "from keras.models import Model\n",
    "from keras.preprocessing.image import ImageDataGenerator\n",
    "import tensorflow as tf\n",
    "from keras.models import load_model\n",
    "tf.random.set_seed(2)\n",
    "np.random.seed(1)\n",
    "# print(os.listdir(\"../input\"))"
   ]
  },
  {
   "cell_type": "code",
   "execution_count": 2,
   "metadata": {
    "colab": {
     "base_uri": "https://localhost:8080/"
    },
    "id": "YaTdJ1amaoGM",
    "outputId": "c498ee55-ae4b-4941-86ac-d03fa290af9f"
   },
   "outputs": [
    {
     "name": "stdout",
     "output_type": "stream",
     "text": [
      "Python version\n",
      "3.9.13 (main, Aug 25 2022, 18:29:29) \n",
      "[Clang 12.0.0 ]\n"
     ]
    }
   ],
   "source": [
    "# InputPath=\"/bin/download.jpeg\"\n",
    "import sys\n",
    "print(\"Python version\")\n",
    "print (sys.version)\n",
    "\n"
   ]
  },
  {
   "cell_type": "code",
   "execution_count": null,
   "metadata": {
    "id": "D16i4T9vaolT"
   },
   "outputs": [],
   "source": [
    "def noisy(noise_typ,image):\n",
    "    if noise_typ == \"gauss\":\n",
    "        row,col,ch= image.shape\n",
    "        mean = 0\n",
    "        var = 0.0001\n",
    "        sigma = var**0.05\n",
    "        gauss = np.random.normal(mean,sigma,(row,col,ch))\n",
    "        gauss = gauss.reshape(row,col,ch)\n",
    "        noisy =  gauss + image\n",
    "        return noisy\n",
    "    elif noise_typ == \"s&p\":\n",
    "        row, col, ch = image.shape\n",
    "        print(row, col)  # add this line to check the size of the input image\n",
    "        row,col,ch = image.shape\n",
    "        s_vs_p = 0.5\n",
    "        amount = 1.0\n",
    "        out = np.copy(image)\n",
    "        # Salt mode\n",
    "        num_salt = np.ceil(image.size * s_vs_p)\n",
    "        coords = [np.random.randint(0, i, int(num_salt))\n",
    "              for i in image.shape]\n",
    "        out[coords] = 1\n",
    "\n",
    "        # Pepper mode\n",
    "        num_pepper = np.ceil(image.size * (1. - s_vs_p))\n",
    "        coords = [np.random.randint(0, i , int(num_pepper))\n",
    "              for i in image.shape]\n",
    "        out[coords] = 1\n",
    "        return out\n",
    "    elif noise_typ == \"poisson\":\n",
    "        vals = len(np.unique(image))\n",
    "        vals = 2 ** np.ceil(np.log2(vals))\n",
    "        noisy = np.random.poisson(image * vals) / float(vals)\n",
    "        return noisy\n",
    "    elif noise_typ ==\"speckle\":\n",
    "        row,col,ch = image.shape\n",
    "        gauss = np.random.randn(row,col,ch)\n",
    "        gauss = gauss.reshape(row,col,ch)        \n",
    "        noisy = image + image * gauss\n",
    "        return noisy"
   ]
  },
  {
   "cell_type": "code",
   "execution_count": null,
   "metadata": {
    "colab": {
     "base_uri": "https://localhost:8080/",
     "height": 412
    },
    "id": "JhGo125taoms",
    "outputId": "69f38cfc-91ec-485b-b0ce-e775dacbcb39"
   },
   "outputs": [],
   "source": [
    "img = cv.imread(InputPath)  \n",
    "img = cv.cvtColor(img, cv.COLOR_BGR2RGB)\n",
    "l = img.max()\n",
    "plt.imshow(img)\n"
   ]
  },
  {
   "cell_type": "code",
   "execution_count": null,
   "metadata": {
    "colab": {
     "base_uri": "https://localhost:8080/",
     "height": 519
    },
    "id": "XaIWy-KYaou8",
    "outputId": "75cb5cca-acda-45a1-c89e-e731d8d5f449"
   },
   "outputs": [],
   "source": [
    "Noise = noisy(\"s&p\",img)\n",
    "plt.imshow(Noise)"
   ]
  },
  {
   "cell_type": "code",
   "execution_count": null,
   "metadata": {
    "colab": {
     "base_uri": "https://localhost:8080/",
     "height": 519
    },
    "id": "FSANmwuYaowd",
    "outputId": "84778916-b335-4860-decd-19269850d307"
   },
   "outputs": [],
   "source": [
    "hsv = cv.cvtColor(img, cv.COLOR_BGR2HSV) #convert it to hsv\n",
    "hsv[...,2] = hsv[...,2]*0.2\n",
    "img1 = cv.cvtColor(hsv, cv.COLOR_HSV2BGR)\n",
    "Noise2 = noisy(\"s&p\",img1)\n",
    "\n",
    "plt.imshow(Noise2)"
   ]
  },
  {
   "cell_type": "code",
   "execution_count": null,
   "metadata": {
    "id": "JRX4Mo3Tao0G"
   },
   "outputs": [],
   "source": [
    "def PreProcessData(ImagePath):\n",
    "    X_=[]\n",
    "    y_=[]\n",
    "    count=0\n",
    "    for imageDir in os.listdir(ImagePath):\n",
    "        if count<2131:\n",
    "            try:\n",
    "                count=count+1\n",
    "                img = cv.imread(ImagePath + imageDir)\n",
    "                img = cv.cvtColor(img, cv.COLOR_BGR2RGB)\n",
    "                img_y = cv.resize(img,(500,500))\n",
    "                hsv = cv.cvtColor(img_y, cv.COLOR_BGR2HSV) #convert it to hsv\n",
    "                hsv[...,2] = hsv[...,2]*0.2\n",
    "                img_1 = cv.cvtColor(hsv, cv.COLOR_HSV2BGR)\n",
    "                Noisey_img = noisy(\"s&p\",img_1)\n",
    "                X_.append(Noisey_img)\n",
    "                y_.append(img_y)\n",
    "            except:\n",
    "                pass\n",
    "    X_ = np.array(X_)\n",
    "    y_ = np.array(y_)\n",
    "    \n",
    "    return X_,y_"
   ]
  },
  {
   "cell_type": "code",
   "execution_count": null,
   "metadata": {
    "colab": {
     "base_uri": "https://localhost:8080/"
    },
    "id": "SATh4M5Uao1o",
    "outputId": "4489ec2a-21e7-4af7-a91a-01fd76fbc8c7"
   },
   "outputs": [],
   "source": [
    "X_,y_ = PreProcessData(\"/bin/\")"
   ]
  },
  {
   "cell_type": "code",
   "execution_count": null,
   "metadata": {
    "id": "vstR4PYEao4v"
   },
   "outputs": [],
   "source": [
    "K.clear_session()\n",
    "def InstantiateModel(in_):\n",
    "    \n",
    "    model_1 = Conv2D(16,(3,3), activation='relu',padding='same',strides=1)(in_)\n",
    "    model_1 = Conv2D(32,(3,3), activation='relu',padding='same',strides=1)(model_1)\n",
    "    model_1 = Conv2D(64,(2,2), activation='relu',padding='same',strides=1)(model_1)\n",
    "    \n",
    "    model_2 = Conv2D(32,(3,3), activation='relu',padding='same',strides=1)(in_)\n",
    "    model_2 = Conv2D(64,(2,2), activation='relu',padding='same',strides=1)(model_2)\n",
    "    \n",
    "    model_2_0 = Conv2D(64,(2,2), activation='relu',padding='same',strides=1)(model_2)\n",
    "    \n",
    "    model_add = add([model_1,model_2,model_2_0])\n",
    "    \n",
    "    model_3 = Conv2D(64,(3,3), activation='relu',padding='same',strides=1)(model_add)\n",
    "    model_3 = Conv2D(32,(3,3), activation='relu',padding='same',strides=1)(model_3)\n",
    "    model_3 = Conv2D(16,(2,2), activation='relu',padding='same',strides=1)(model_3)\n",
    "    \n",
    "    model_3_1 = Conv2D(32,(3,3), activation='relu',padding='same',strides=1)(model_add)\n",
    "    model_3_1 = Conv2D(16,(2,2), activation='relu',padding='same',strides=1)(model_3_1)\n",
    "    \n",
    "    model_3_2 = Conv2D(16,(2,2), activation='relu',padding='same',strides=1)(model_add)\n",
    "    \n",
    "    model_add_2 = add([model_3_1,model_3_2,model_3])\n",
    "    \n",
    "    model_4 = Conv2D(16,(3,3), activation='relu',padding='same',strides=1)(model_add_2)\n",
    "    model_4_1 = Conv2D(16,(3,3), activation='relu',padding='same',strides=1)(model_add)\n",
    "    #Extension\n",
    "    model_add_3 = add([model_4_1,model_add_2,model_4])\n",
    "    \n",
    "    model_5 = Conv2D(16,(3,3), activation='relu',padding='same',strides=1)(model_add_3)\n",
    "    model_5 = Conv2D(16,(2,2), activation='relu',padding='same',strides=1)(model_add_3)\n",
    "    \n",
    "    model_5 = Conv2D(3,(3,3), activation='relu',padding='same',strides=1)(model_5)\n",
    "    \n",
    "    return model_5"
   ]
  },
  {
   "cell_type": "code",
   "execution_count": null,
   "metadata": {
    "id": "SvOz03-0ao6l"
   },
   "outputs": [],
   "source": [
    "Input_Sample = Input(shape=(500, 500,3))\n",
    "Output_ = InstantiateModel(Input_Sample)\n",
    "Model_Enhancer = Model(inputs=Input_Sample, outputs=Output_)"
   ]
  },
  {
   "cell_type": "code",
   "execution_count": null,
   "metadata": {
    "colab": {
     "base_uri": "https://localhost:8080/"
    },
    "id": "UG9b6Sudao-T",
    "outputId": "c4cdf914-4375-466a-ac40-36258de54092"
   },
   "outputs": [],
   "source": [
    "Model_Enhancer.compile(optimizer=\"adam\", loss='mean_squared_error')\n",
    "Model_Enhancer.summary()"
   ]
  },
  {
   "cell_type": "code",
   "execution_count": null,
   "metadata": {
    "colab": {
     "base_uri": "https://localhost:8080/",
     "height": 717
    },
    "id": "or9X9NHEao_2",
    "outputId": "c9796a46-b348-416d-f5df-eec223c32c3d"
   },
   "outputs": [],
   "source": [
    "from keras.utils.vis_utils import plot_model\n",
    "plot_model(Model_Enhancer,to_file='model_.png',show_shapes=True, show_layer_names=True)\n",
    "from IPython.display import Image\n",
    "Image(retina=True, filename='model_.png')"
   ]
  },
  {
   "cell_type": "code",
   "execution_count": null,
   "metadata": {
    "colab": {
     "base_uri": "https://localhost:8080/",
     "height": 200
    },
    "id": "eOKRNXZXapCa",
    "outputId": "a6c266a1-4aa5-4641-c3de-2a566da8e64c"
   },
   "outputs": [],
   "source": [
    "def GenerateInputs(X,y):\n",
    "    for i in range(len(X)):\n",
    "        X_input = X[i].reshape(1,500,500,3)\n",
    "        y_input = y[i].reshape(1,500,500,3)\n",
    "        yield (X_input,y_input)\n",
    "Model_Enhancer.fit_generator(GenerateInputs(X_,y_),epochs=53,verbose=1,steps_per_epoch=39,shuffle=True)"
   ]
  },
  {
   "cell_type": "code",
   "execution_count": null,
   "metadata": {
    "colab": {
     "base_uri": "https://localhost:8080/"
    },
    "id": "gZnYf_zCf9rB",
    "outputId": "a7f43e8c-7d64-493f-a8a0-64ee3d52d4d1"
   },
   "outputs": [],
   "source": [
    "\n",
    "import warnings\n",
    "import joblib\n",
    "warnings.filterwarnings(\"ignore\")\n",
    "\n",
    "print(os.getcwd())\n",
    "joblib.dump(InstantiateModel(Input_Sample),\"job\")\n"
   ]
  },
  {
   "cell_type": "code",
   "execution_count": null,
   "metadata": {
    "id": "4xOQsWKQapFZ"
   },
   "outputs": [],
   "source": [
    "TestPath=\"/bin/download.jpeg\""
   ]
  },
  {
   "cell_type": "code",
   "execution_count": null,
   "metadata": {
    "id": "AUQeKo2nmNYA"
   },
   "outputs": [],
   "source": [
    "def ExtractTestInput(ImagePath):\n",
    "    img = cv.imread(ImagePath)\n",
    "    img = cv.cvtColor(img, cv.COLOR_BGR2RGB)\n",
    "    img_ = cv.resize(img,(500,500))\n",
    "    hsv = cv.cvtColor(img_, cv.COLOR_BGR2HSV) #convert it to hsv\n",
    "    hsv[...,2] = hsv[...,2]*0.2\n",
    "    img1 = cv.cvtColor(hsv, cv.COLOR_HSV2BGR)\n",
    "    Noise = noisy(\"s&p\",img1)\n",
    "    Noise = Noise.reshape(1,500,500,3)\n",
    "    return Noise"
   ]
  },
  {
   "cell_type": "code",
   "execution_count": null,
   "metadata": {
    "colab": {
     "base_uri": "https://localhost:8080/"
    },
    "id": "wFZdwhZmmNkC",
    "outputId": "8186818d-84b8-46f0-c5fa-e5d78cb9c8a0"
   },
   "outputs": [],
   "source": [
    "ImagePath=TestPath\n",
    "image_for_test = ExtractTestInput(ImagePath)\n",
    "Prediction = Model_Enhancer.predict(image_for_test)"
   ]
  },
  {
   "cell_type": "code",
   "execution_count": null,
   "metadata": {
    "colab": {
     "base_uri": "https://localhost:8080/",
     "height": 470
    },
    "id": "Sg277favmNoU",
    "outputId": "0213d873-d3c4-4462-f000-176361547e1b"
   },
   "outputs": [],
   "source": [
    "Prediction = Prediction.reshape(500,500,3)\n",
    "plt.imshow(Prediction)"
   ]
  },
  {
   "cell_type": "code",
   "execution_count": null,
   "metadata": {
    "colab": {
     "base_uri": "https://localhost:8080/",
     "height": 466
    },
    "id": "lFoe4fRqmNsE",
    "outputId": "51898e06-05fb-4aa6-ec12-68a1ee094e86"
   },
   "outputs": [],
   "source": [
    "Image_test=TestPath\n",
    "plt.figure(figsize=(30,30))\n",
    "plt.subplot(5,5,1)\n",
    "img_1 = cv.imread(Image_test)\n",
    "img_1 = cv.cvtColor(img_1, cv.COLOR_BGR2RGB)\n",
    "img_1 = cv.resize(img_1, (500, 500))\n",
    "plt.title(\"Ground Truth\",fontsize=20)\n",
    "plt.imshow(img_1)\n",
    "\n",
    "plt.subplot(5,5,1+1)\n",
    "img_ = ExtractTestInput(Image_test)\n",
    "img_ = img_.reshape(500,500,3)\n",
    "plt.title(\"Low Light Image\",fontsize=20)\n",
    "plt.imshow(img_)\n",
    "\n",
    "plt.subplot(5,5,1+2)\n",
    "# Prediction = Prediction.reshape(500,500,3)\n",
    "img_[:,:,:] = Prediction[:,:,:]\n",
    "plt.title(\"Enhanced Image\",fontsize=20)\n",
    "plt.imshow(img_)"
   ]
  },
  {
   "cell_type": "code",
   "execution_count": null,
   "metadata": {
    "id": "o20OATSumNvf"
   },
   "outputs": [],
   "source": [
    "TestPath2=\"/bin/2.jpg\""
   ]
  },
  {
   "cell_type": "code",
   "execution_count": null,
   "metadata": {
    "colab": {
     "base_uri": "https://localhost:8080/",
     "height": 484
    },
    "id": "j4YsQCo-mNzV",
    "outputId": "ec171cae-af76-4126-a064-268f8cb90374"
   },
   "outputs": [],
   "source": [
    "Image_test2=TestPath2\n",
    "plt.figure(figsize=(30,30))\n",
    "plt.subplot(5,5,1)\n",
    "img_1 = cv.imread(Image_test2)\n",
    "img_1 = cv.cvtColor(img_1, cv.COLOR_BGR2RGB)\n",
    "img_1 = cv.resize(img_1, (500, 500))\n",
    "plt.title(\"Ground Truth\",fontsize=20)\n",
    "plt.imshow(img_1)\n",
    "\n",
    "plt.subplot(5,5,1+1)\n",
    "img_ = ExtractTestInput(Image_test2)\n",
    "Prediction = Model_Enhancer.predict(img_)\n",
    "img_ = img_.reshape(500,500,3)\n",
    "plt.title(\"Low Light Image\",fontsize=20)\n",
    "plt.imshow(img_)\n",
    "\n",
    "plt.subplot(5,5,1+2)\n",
    "Prediction = Prediction.reshape(500,500,3)\n",
    "img_[:,:,:] = Prediction[:,:,:]\n",
    "plt.title(\"Enhanced Image\",fontsize=20)\n",
    "plt.imshow(img_)"
   ]
  },
  {
   "cell_type": "code",
   "execution_count": null,
   "metadata": {
    "colab": {
     "base_uri": "https://localhost:8080/",
     "height": 484
    },
    "id": "eZOBV8cqmN29",
    "outputId": "4b364c3b-240c-44b4-fde6-78a27a8d16d9"
   },
   "outputs": [],
   "source": [
    "Image_test2=\"/bin/1.jpg\"\n",
    "plt.figure(figsize=(30,30))\n",
    "plt.subplot(5,5,1)\n",
    "img_1 = cv.imread(Image_test2)\n",
    "img_1 = cv.cvtColor(img_1, cv.COLOR_BGR2RGB)\n",
    "img_1 = cv.resize(img_1, (500, 500))\n",
    "plt.title(\"Ground Truth\",fontsize=20)\n",
    "plt.imshow(img_1)\n",
    "\n",
    "plt.subplot(5,5,1+1)\n",
    "img_ = ExtractTestInput(Image_test2)\n",
    "Prediction = Model_Enhancer.predict(img_)\n",
    "img_ = img_.reshape(500,500,3)\n",
    "plt.title(\"Low Light Image\",fontsize=20)\n",
    "plt.imshow(img_)\n",
    "\n",
    "plt.subplot(5,5,1+2)\n",
    "Prediction = Prediction.reshape(500,500,3)\n",
    "img_[:,:,:] = Prediction[:,:,:]\n",
    "plt.title(\"Enhanced Image\",fontsize=20)\n",
    "plt.imshow(img_)"
   ]
  },
  {
   "cell_type": "code",
   "execution_count": null,
   "metadata": {
    "colab": {
     "base_uri": "https://localhost:8080/",
     "height": 541
    },
    "id": "a8XkgUi_mN6M",
    "outputId": "4ac9608d-8330-48a6-da46-e868758872bc"
   },
   "outputs": [],
   "source": [
    "Image_test2=\"/bin/3.jpeg\"\n",
    "plt.figure(figsize=(30,30))\n",
    "# plt.subplot(5,5,1)\n",
    "img_1 = cv.imread(Image_test2)\n",
    "img_1 = cv.cvtColor(img_1, cv.COLOR_BGR2RGB)\n",
    "img_1 = cv.resize(img_1, (500, 500))\n",
    "plt.title(\"Ground Truth\",fontsize=20)\n",
    "# plt.imshow(img_1)\n",
    "\n",
    "plt.subplot(5,5,1+1)\n",
    "img_ = ExtractTestInput(Image_test2)\n",
    "Prediction = Model_Enhancer.predict(img_)\n",
    "img_ = img_.reshape(500,500,3)\n",
    "plt.title(\"Low Light Image\",fontsize=20)\n",
    "plt.imshow(img_)\n",
    "\n",
    "plt.subplot(5,5,1+2)\n",
    "Prediction = Prediction.reshape(500,500,3)\n",
    "img_[:,:,:] = Prediction[:,:,:]\n",
    "plt.title(\"Enhanced Image\",fontsize=20)\n",
    "plt.imshow(img_)"
   ]
  },
  {
   "cell_type": "code",
   "execution_count": null,
   "metadata": {
    "id": "sPLGnJ-oolFe"
   },
   "outputs": [],
   "source": [
    "test_image=\"/bin/3.jpeg\"\n",
    "img = cv.imread(test_image)\n",
    "img = cv.cvtColor(img, cv.COLOR_BGR2RGB)\n",
    "img_ = cv.resize(img,(500,500))\n",
    "hsv = cv.cvtColor(img_, cv.COLOR_BGR2HSV) #convert it to hsv\n",
    "hsv[...,2] = hsv[...,2]*0.2\n",
    "img1 = cv.cvtColor(hsv, cv.COLOR_HSV2BGR)\n",
    "Noise = noisy(\"s&p\",img1)\n",
    "img_ =img_.reshape(1,500,500,3)"
   ]
  },
  {
   "cell_type": "code",
   "execution_count": null,
   "metadata": {
    "colab": {
     "base_uri": "https://localhost:8080/",
     "height": 473
    },
    "id": "hA1DBTY2mN98",
    "outputId": "12b5be29-0b4b-4c33-c1c7-5381c85bf939"
   },
   "outputs": [],
   "source": [
    "#testing for eval15 model\n",
    "\n",
    "\n",
    "from keras.models import load_model\n",
    "Image_test2=\"./23.png\"\n",
    "plt.figure(figsize=(30,30))\n",
    "plt.subplot(5,5,1)\n",
    "img_1 = cv.imread(Image_test2)\n",
    "img_1 = cv.cvtColor(img_1, cv.COLOR_BGR2RGB)\n",
    "img_1 = cv.resize(img_1, (500, 500))\n",
    "plt.title(\"Ground Truth\",fontsize=20)\n",
    "plt.imshow(img_1)\n",
    "\n",
    "plt.subplot(5,5,1+1)\n",
    "img_ = ExtractTestInput(Image_test2)\n",
    "Model_Enhancer = load_model(\"./model_for_eval15_high.h5\")\n",
    "Prediction = Model_Enhancer.predict(img_)\n",
    "img_ = img_.reshape(500,500,3)\n",
    "plt.title(\"Low Light Image\",fontsize=20)\n",
    "plt.imshow(img_)\n",
    "\n",
    "plt.subplot(5,5,1+2)\n",
    "Prediction = Prediction.reshape(500,500,3)\n",
    "img_[:,:,:] = Prediction[:,:,:]\n",
    "plt.title(\"Enhanced Image\",fontsize=20)\n",
    "plt.imshow(img_)"
   ]
  },
  {
   "cell_type": "code",
   "execution_count": null,
   "metadata": {
    "colab": {
     "base_uri": "https://localhost:8080/",
     "height": 458
    },
    "id": "l1HGjmYkmOBh",
    "outputId": "c4b2f283-2aa0-42e8-9e72-308311a958fe"
   },
   "outputs": [],
   "source": [
    "Image_test2=\"/bin/55.png\"\n",
    "plt.figure(figsize=(30,30))\n",
    "plt.subplot(5,5,1)\n",
    "img_1 = cv.imread(Image_test2)\n",
    "img_1 = cv.cvtColor(img_1, cv.COLOR_BGR2RGB)\n",
    "img_1 = cv.resize(img_1, (500, 500))\n",
    "plt.title(\"Ground Truth\",fontsize=20)\n",
    "plt.imshow(img_1)\n",
    "\n",
    "plt.subplot(5,5,1+1)\n",
    "img_ = ExtractTestInput(Image_test2)\n",
    "Model_Enhancer = load_model(\"/bin/model_for_eval15_high.h5\")\n",
    "Prediction = Model_Enhancer.predict(img_)\n",
    "img_ = img_.reshape(500,500,3)\n",
    "plt.title(\"Low Light Image\",fontsize=20)\n",
    "plt.imshow(img_)\n",
    "\n",
    "plt.subplot(5,5,1+2)\n",
    "Prediction = Prediction.reshape(500,500,3)\n",
    "img_[:,:,:] = Prediction[:,:,:]\n",
    "plt.title(\"Enhanced Image\",fontsize=20)\n",
    "plt.imshow(img_)"
   ]
  },
  {
   "cell_type": "code",
   "execution_count": null,
   "metadata": {
    "colab": {
     "base_uri": "https://localhost:8080/",
     "height": 473
    },
    "id": "f6aBn19XLfO6",
    "outputId": "4dc1b793-b852-443d-82cd-4aca1e5004dd"
   },
   "outputs": [],
   "source": [
    "Image_test2=\"/bin/79.png\"\n",
    "plt.figure(figsize=(30,30))\n",
    "plt.subplot(5,5,1)\n",
    "img_1 = cv.imread(Image_test2)\n",
    "img_1 = cv.cvtColor(img_1, cv.COLOR_BGR2RGB)\n",
    "img_1 = cv.resize(img_1, (500, 500))\n",
    "plt.title(\"Ground Truth\",fontsize=20)\n",
    "plt.imshow(img_1)\n",
    "\n",
    "plt.subplot(5,5,1+1)\n",
    "img_ = ExtractTestInput(Image_test2)\n",
    "Model_Enhancer = load_model(\"/bin/model_for_eval15_high.h5\")\n",
    "Prediction = Model_Enhancer.predict(img_)\n",
    "img_ = img_.reshape(500,500,3)\n",
    "plt.title(\"Low Light Image\",fontsize=20)\n",
    "plt.imshow(img_)\n",
    "\n",
    "plt.subplot(5,5,1+2)\n",
    "Prediction = Prediction.reshape(500,500,3)\n",
    "img_[:,:,:] = Prediction[:,:,:]\n",
    "plt.title(\"Enhanced Image\",fontsize=20)\n",
    "plt.imshow(img_)"
   ]
  },
  {
   "cell_type": "code",
   "execution_count": null,
   "metadata": {
    "colab": {
     "base_uri": "https://localhost:8080/",
     "height": 490
    },
    "id": "FF0nfQb9IveA",
    "outputId": "1b220fac-b152-4480-b215-03a879422e92"
   },
   "outputs": [],
   "source": [
    "Image_test2=\"/bin/665.png\"\n",
    "plt.figure(figsize=(30,30))\n",
    "plt.subplot(5,5,1)\n",
    "img_1 = cv.imread(Image_test2)\n",
    "img_1 = cv.cvtColor(img_1, cv.COLOR_BGR2RGB)\n",
    "img_1 = cv.resize(img_1, (500, 500))\n",
    "plt.title(\"Ground Truth\",fontsize=20)\n",
    "plt.imshow(img_1)\n",
    "\n",
    "plt.subplot(5,5,1+1)\n",
    "img_ = ExtractTestInput(Image_test2)\n",
    "Model_Enhancer = load_model(\"/bin/model_for_eval15_high.h5\")\n",
    "Prediction = Model_Enhancer.predict(img_)\n",
    "img_ = img_.reshape(500,500,3)\n",
    "plt.title(\"Low Light Image\",fontsize=20)\n",
    "plt.imshow(img_)\n",
    "\n",
    "plt.subplot(5,5,1+2)\n",
    "Prediction = Prediction.reshape(500,500,3)\n",
    "img_[:,:,:] = Prediction[:,:,:]\n",
    "plt.title(\"Enhanced Image\",fontsize=20)\n",
    "plt.imshow(img_)"
   ]
  },
  {
   "cell_type": "code",
   "execution_count": null,
   "metadata": {
    "colab": {
     "base_uri": "https://localhost:8080/",
     "height": 458
    },
    "id": "6DbBC_l1Ivjx",
    "outputId": "eaca7c14-b2dd-4bfd-abf3-f2754e0f29b4"
   },
   "outputs": [],
   "source": [
    "Image_test2=\"/bin/778.png\"\n",
    "plt.figure(figsize=(30,30))\n",
    "plt.subplot(5,5,1)\n",
    "img_1 = cv.imread(Image_test2)\n",
    "img_1 = cv.cvtColor(img_1, cv.COLOR_BGR2RGB)\n",
    "img_1 = cv.resize(img_1, (500, 500))\n",
    "plt.title(\"Ground Truth\",fontsize=20)\n",
    "plt.imshow(img_1)\n",
    "\n",
    "plt.subplot(5,5,1+1)\n",
    "img_ = ExtractTestInput(Image_test2)\n",
    "Model_Enhancer = load_model(\"/bin/model_for_eval15_high.h5\")\n",
    "Prediction = Model_Enhancer.predict(img_)\n",
    "img_ = img_.reshape(500,500,3)\n",
    "plt.title(\"Low Light Image\",fontsize=20)\n",
    "plt.imshow(img_)\n",
    "\n",
    "plt.subplot(5,5,1+2)\n",
    "Prediction = Prediction.reshape(500,500,3)\n",
    "img_[:,:,:] = Prediction[:,:,:]\n",
    "plt.title(\"Enhanced Image\",fontsize=20)\n",
    "plt.imshow(img_)"
   ]
  },
  {
   "cell_type": "code",
   "execution_count": null,
   "metadata": {
    "colab": {
     "base_uri": "https://localhost:8080/",
     "height": 458
    },
    "id": "iPR4ghbmRCh4",
    "outputId": "4bbd6c7e-2766-41f5-85c2-4f0791aeaae2"
   },
   "outputs": [],
   "source": [
    "#testing for architecure\n",
    "Image_test2=\"/bin/55.png\"\n",
    "plt.figure(figsize=(30,30))\n",
    "plt.subplot(5,5,1)\n",
    "img_1 = cv.imread(Image_test2)\n",
    "img_1 = cv.cvtColor(img_1, cv.COLOR_BGR2RGB)\n",
    "img_1 = cv.resize(img_1, (500, 500))\n",
    "plt.title(\"Ground Truth\",fontsize=20)\n",
    "plt.imshow(img_1)\n",
    "\n",
    "plt.subplot(5,5,1+1)\n",
    "img_ = ExtractTestInput(Image_test2)\n",
    "Model_Enhancer = load_model(\"/bin/model_for_travel.h5\")\n",
    "Prediction = Model_Enhancer.predict(img_)\n",
    "img_ = img_.reshape(500,500,3)\n",
    "plt.title(\"Low Light Image\",fontsize=20)\n",
    "plt.imshow(img_)\n",
    "\n",
    "plt.subplot(5,5,1+2)\n",
    "Prediction = Prediction.reshape(500,500,3)\n",
    "img_[:,:,:] = Prediction[:,:,:]\n",
    "plt.title(\"Enhanced Image\",fontsize=20)\n",
    "plt.imshow(img_)"
   ]
  },
  {
   "cell_type": "code",
   "execution_count": null,
   "metadata": {
    "id": "dasIZWk9RCmS"
   },
   "outputs": [],
   "source": []
  },
  {
   "cell_type": "code",
   "execution_count": null,
   "metadata": {
    "id": "M7DpSngwRC65"
   },
   "outputs": [],
   "source": []
  },
  {
   "cell_type": "code",
   "execution_count": null,
   "metadata": {
    "id": "2YjVCy73RDI5"
   },
   "outputs": [],
   "source": []
  },
  {
   "cell_type": "code",
   "execution_count": null,
   "metadata": {
    "id": "aNi2phfKRDNE"
   },
   "outputs": [],
   "source": []
  },
  {
   "cell_type": "code",
   "execution_count": null,
   "metadata": {
    "id": "K3fB2QYrRDQ1"
   },
   "outputs": [],
   "source": []
  }
 ],
 "metadata": {
  "colab": {
   "provenance": []
  },
  "kernelspec": {
   "display_name": "Python 3 (ipykernel)",
   "language": "python",
   "name": "python3"
  },
  "language_info": {
   "codemirror_mode": {
    "name": "ipython",
    "version": 3
   },
   "file_extension": ".py",
   "mimetype": "text/x-python",
   "name": "python",
   "nbconvert_exporter": "python",
   "pygments_lexer": "ipython3",
   "version": "3.9.13"
  }
 },
 "nbformat": 4,
 "nbformat_minor": 1
}
